{
  "nbformat": 4,
  "nbformat_minor": 0,
  "metadata": {
    "colab": {
      "provenance": [],
      "gpuType": "T4",
      "authorship_tag": "ABX9TyOSZTMJf6ZI+kjmRhMGOfCu",
      "include_colab_link": true
    },
    "kernelspec": {
      "name": "python3",
      "display_name": "Python 3"
    },
    "language_info": {
      "name": "python"
    },
    "accelerator": "GPU"
  },
  "cells": [
    {
      "cell_type": "markdown",
      "metadata": {
        "id": "view-in-github",
        "colab_type": "text"
      },
      "source": [
        "<a href=\"https://colab.research.google.com/github/Sayed-Hossein-Hosseini/SparkML_Heart_Risk_Classifier/blob/master/SparkML_Heart_Risk_Classifier.ipynb\" target=\"_parent\"><img src=\"https://colab.research.google.com/assets/colab-badge.svg\" alt=\"Open In Colab\"/></a>"
      ]
    },
    {
      "cell_type": "markdown",
      "source": [
        "# **SparkML Heart Risk Classifier**"
      ],
      "metadata": {
        "id": "VgxGftLU9HOz"
      }
    },
    {
      "cell_type": "markdown",
      "source": [
        "## **Libraries**"
      ],
      "metadata": {
        "id": "4Nm18lRB9NUD"
      }
    },
    {
      "cell_type": "code",
      "source": [
        "pip install pyspark"
      ],
      "metadata": {
        "colab": {
          "base_uri": "https://localhost:8080/"
        },
        "id": "eKhBNPmF9Tdr",
        "outputId": "7f699f5d-7a0d-4eb9-b1e6-385c5b6409a7"
      },
      "execution_count": 7,
      "outputs": [
        {
          "output_type": "stream",
          "name": "stdout",
          "text": [
            "Requirement already satisfied: pyspark in /usr/local/lib/python3.11/dist-packages (3.5.1)\n",
            "Requirement already satisfied: py4j==0.10.9.7 in /usr/local/lib/python3.11/dist-packages (from pyspark) (0.10.9.7)\n"
          ]
        }
      ]
    },
    {
      "cell_type": "code",
      "source": [
        "from pyspark.sql import SparkSession\n",
        "from pyspark.ml.feature import StringIndexer, VectorAssembler\n",
        "from pyspark.ml import Pipeline\n",
        "from pyspark.ml.classification import RandomForestClassifier\n",
        "from pyspark.ml.evaluation import MulticlassClassificationEvaluator, BinaryClassificationEvaluator\n",
        "from pyspark.sql.functions import col"
      ],
      "metadata": {
        "id": "5Hh-OqTh9bRz"
      },
      "execution_count": 8,
      "outputs": []
    },
    {
      "cell_type": "markdown",
      "source": [
        "## **Loading Dataset**"
      ],
      "metadata": {
        "id": "vIIT0yOw9rHD"
      }
    },
    {
      "cell_type": "code",
      "source": [
        "# Create a local Spark session\n",
        "spark = SparkSession.builder.appName(\"HeartDiseaseClassification\").getOrCreate()\n",
        "\n",
        "# Upload CSV file\n",
        "data = spark.read.csv(\"heart_disease_uci.csv\", header=True, inferSchema=True)\n",
        "\n",
        "# Display data\n",
        "data.printSchema()\n",
        "data.show(5)"
      ],
      "metadata": {
        "colab": {
          "base_uri": "https://localhost:8080/"
        },
        "id": "Plr-7rT-9rPb",
        "outputId": "2ba624ad-6eba-4bf7-d102-f4ba5e862808"
      },
      "execution_count": 9,
      "outputs": [
        {
          "output_type": "stream",
          "name": "stdout",
          "text": [
            "root\n",
            " |-- id: integer (nullable = true)\n",
            " |-- age: integer (nullable = true)\n",
            " |-- sex: string (nullable = true)\n",
            " |-- dataset: string (nullable = true)\n",
            " |-- cp: string (nullable = true)\n",
            " |-- trestbps: integer (nullable = true)\n",
            " |-- chol: integer (nullable = true)\n",
            " |-- fbs: boolean (nullable = true)\n",
            " |-- restecg: string (nullable = true)\n",
            " |-- thalch: integer (nullable = true)\n",
            " |-- exang: boolean (nullable = true)\n",
            " |-- oldpeak: double (nullable = true)\n",
            " |-- slope: string (nullable = true)\n",
            " |-- ca: integer (nullable = true)\n",
            " |-- thal: string (nullable = true)\n",
            " |-- num: integer (nullable = true)\n",
            "\n",
            "+---+---+------+---------+---------------+--------+----+-----+--------------+------+-----+-------+-----------+---+-----------------+---+\n",
            "| id|age|   sex|  dataset|             cp|trestbps|chol|  fbs|       restecg|thalch|exang|oldpeak|      slope| ca|             thal|num|\n",
            "+---+---+------+---------+---------------+--------+----+-----+--------------+------+-----+-------+-----------+---+-----------------+---+\n",
            "|  1| 63|  Male|Cleveland| typical angina|     145| 233| true|lv hypertrophy|   150|false|    2.3|downsloping|  0|     fixed defect|  0|\n",
            "|  2| 67|  Male|Cleveland|   asymptomatic|     160| 286|false|lv hypertrophy|   108| true|    1.5|       flat|  3|           normal|  2|\n",
            "|  3| 67|  Male|Cleveland|   asymptomatic|     120| 229|false|lv hypertrophy|   129| true|    2.6|       flat|  2|reversable defect|  1|\n",
            "|  4| 37|  Male|Cleveland|    non-anginal|     130| 250|false|        normal|   187|false|    3.5|downsloping|  0|           normal|  0|\n",
            "|  5| 41|Female|Cleveland|atypical angina|     130| 204|false|lv hypertrophy|   172|false|    1.4|  upsloping|  0|           normal|  0|\n",
            "+---+---+------+---------+---------------+--------+----+-----+--------------+------+-----+-------+-----------+---+-----------------+---+\n",
            "only showing top 5 rows\n",
            "\n"
          ]
        }
      ]
    },
    {
      "cell_type": "markdown",
      "source": [
        "## **Data Preprocessing**"
      ],
      "metadata": {
        "id": "EvGida3NKPus"
      }
    },
    {
      "cell_type": "code",
      "source": [
        "# Check for null values\n",
        "data.select([col(c).isNull().alias(c) for c in data.columns]).show()\n",
        "\n",
        "# Convert feature variables to vectors\n",
        "feature_cols = [col for col in data.columns if col != 'target']\n",
        "assembler = VectorAssembler(inputCols=feature_cols, outputCol=\"features\")\n",
        "\n",
        "# If target is not a number, we convert it to a number\n",
        "labelIndexer = StringIndexer(inputCol=\"target\", outputCol=\"label\")\n",
        "\n",
        "# Split data into training and testing\n",
        "(trainingData, testData) = data.randomSplit([0.8, 0.2], seed=42)"
      ],
      "metadata": {
        "colab": {
          "base_uri": "https://localhost:8080/"
        },
        "id": "ZBUN43oXKV2c",
        "outputId": "284cede6-15d1-4420-855e-cd568fadc18b"
      },
      "execution_count": 10,
      "outputs": [
        {
          "output_type": "stream",
          "name": "stdout",
          "text": [
            "+-----+-----+-----+-------+-----+--------+-----+-----+-------+------+-----+-------+-----+-----+-----+-----+\n",
            "|   id|  age|  sex|dataset|   cp|trestbps| chol|  fbs|restecg|thalch|exang|oldpeak|slope|   ca| thal|  num|\n",
            "+-----+-----+-----+-------+-----+--------+-----+-----+-------+------+-----+-------+-----+-----+-----+-----+\n",
            "|false|false|false|  false|false|   false|false|false|  false| false|false|  false|false|false|false|false|\n",
            "|false|false|false|  false|false|   false|false|false|  false| false|false|  false|false|false|false|false|\n",
            "|false|false|false|  false|false|   false|false|false|  false| false|false|  false|false|false|false|false|\n",
            "|false|false|false|  false|false|   false|false|false|  false| false|false|  false|false|false|false|false|\n",
            "|false|false|false|  false|false|   false|false|false|  false| false|false|  false|false|false|false|false|\n",
            "|false|false|false|  false|false|   false|false|false|  false| false|false|  false|false|false|false|false|\n",
            "|false|false|false|  false|false|   false|false|false|  false| false|false|  false|false|false|false|false|\n",
            "|false|false|false|  false|false|   false|false|false|  false| false|false|  false|false|false|false|false|\n",
            "|false|false|false|  false|false|   false|false|false|  false| false|false|  false|false|false|false|false|\n",
            "|false|false|false|  false|false|   false|false|false|  false| false|false|  false|false|false|false|false|\n",
            "|false|false|false|  false|false|   false|false|false|  false| false|false|  false|false|false|false|false|\n",
            "|false|false|false|  false|false|   false|false|false|  false| false|false|  false|false|false|false|false|\n",
            "|false|false|false|  false|false|   false|false|false|  false| false|false|  false|false|false|false|false|\n",
            "|false|false|false|  false|false|   false|false|false|  false| false|false|  false|false|false|false|false|\n",
            "|false|false|false|  false|false|   false|false|false|  false| false|false|  false|false|false|false|false|\n",
            "|false|false|false|  false|false|   false|false|false|  false| false|false|  false|false|false|false|false|\n",
            "|false|false|false|  false|false|   false|false|false|  false| false|false|  false|false|false|false|false|\n",
            "|false|false|false|  false|false|   false|false|false|  false| false|false|  false|false|false|false|false|\n",
            "|false|false|false|  false|false|   false|false|false|  false| false|false|  false|false|false|false|false|\n",
            "|false|false|false|  false|false|   false|false|false|  false| false|false|  false|false|false|false|false|\n",
            "+-----+-----+-----+-------+-----+--------+-----+-----+-------+------+-----+-------+-----+-----+-----+-----+\n",
            "only showing top 20 rows\n",
            "\n"
          ]
        }
      ]
    }
  ]
}