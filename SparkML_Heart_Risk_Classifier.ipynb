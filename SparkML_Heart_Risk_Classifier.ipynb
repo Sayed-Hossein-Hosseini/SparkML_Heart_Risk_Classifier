{
  "cells": [
    {
      "cell_type": "markdown",
      "metadata": {
        "id": "rY2WNBuLT5Yi"
      },
      "source": [
        "# **SparkML Heart Risk Classifier**"
      ]
    },
    {
      "cell_type": "markdown",
      "metadata": {
        "id": "0wkInQQ_T5Ym"
      },
      "source": [
        "## **Libraries**"
      ]
    },
    {
      "cell_type": "code",
      "execution_count": 1,
      "metadata": {
        "id": "UGKNpE74T5Yn"
      },
      "outputs": [],
      "source": [
        "!pip install pyspark -q\n",
        "!pip install pandas seaborn matplotlib -q"
      ]
    },
    {
      "cell_type": "code",
      "execution_count": 2,
      "metadata": {
        "id": "zqg1vO-VT5Yo"
      },
      "outputs": [],
      "source": [
        "import pandas as pd\n",
        "import seaborn as sns\n",
        "import matplotlib.pyplot as plt\n",
        "from pyspark.sql import SparkSession\n",
        "from pyspark.ml.feature import StringIndexer, VectorAssembler, Imputer, StandardScaler\n",
        "from pyspark.ml import Pipeline\n",
        "from pyspark.ml.classification import RandomForestClassifier\n",
        "from pyspark.ml.evaluation import MulticlassClassificationEvaluator\n",
        "from pyspark.sql.functions import col, create_map, lit\n",
        "from itertools import chain"
      ]
    },
    {
      "cell_type": "markdown",
      "metadata": {
        "id": "FNAhtzbBT5Yp"
      },
      "source": [
        "## **Spark Session**"
      ]
    },
    {
      "cell_type": "code",
      "execution_count": 3,
      "metadata": {
        "id": "0nI85cRdT5Yp"
      },
      "outputs": [],
      "source": [
        "spark = SparkSession.builder.appName(\"FinalHeartClassifier\").getOrCreate()"
      ]
    },
    {
      "cell_type": "markdown",
      "metadata": {
        "id": "8vWq3mVVT5Yq"
      },
      "source": [
        "## **Loading Dataset**"
      ]
    },
    {
      "cell_type": "code",
      "execution_count": 4,
      "metadata": {
        "colab": {
          "base_uri": "https://localhost:8080/"
        },
        "id": "iyLY2Z8fT5Yq",
        "outputId": "702be8c3-d15f-44cf-d5d2-290e96fdca24"
      },
      "outputs": [
        {
          "output_type": "stream",
          "name": "stdout",
          "text": [
            "Dataset loaded successfully. Total number of rows: 920\n"
          ]
        }
      ],
      "source": [
        "try:\n",
        "    data = spark.read.csv(\"heart_disease_uci.csv\", header=True, inferSchema=True)\n",
        "    print(f\"Dataset loaded successfully. Total number of rows: {data.count()}\")\n",
        "except Exception as e:\n",
        "    print(f\"Error loading file: {e}\")\n",
        "    print(\"Please make sure the file 'heart_disease_uci.csv' is available.\")\n",
        "    # If there is an error, do not continue the code.\n",
        "    spark.stop()"
      ]
    },
    {
      "cell_type": "markdown",
      "metadata": {
        "id": "8nvLtvBNT5Yr"
      },
      "source": [
        "## **Preprocessing and Feature Engineering**"
      ]
    },
    {
      "cell_type": "code",
      "execution_count": 5,
      "metadata": {
        "colab": {
          "base_uri": "https://localhost:8080/"
        },
        "id": "TmNrMwO5T5Yr",
        "outputId": "ecfdd94c-f61a-4bee-cd1e-a6a81cd4610b"
      },
      "outputs": [
        {
          "output_type": "stream",
          "name": "stdout",
          "text": [
            "\n",
            "Schema after converting Boolean columns (fbs, exang):\n",
            "root\n",
            " |-- age: integer (nullable = true)\n",
            " |-- sex: string (nullable = true)\n",
            " |-- cp: string (nullable = true)\n",
            " |-- trestbps: integer (nullable = true)\n",
            " |-- chol: integer (nullable = true)\n",
            " |-- fbs: integer (nullable = true)\n",
            " |-- restecg: string (nullable = true)\n",
            " |-- thalch: integer (nullable = true)\n",
            " |-- exang: integer (nullable = true)\n",
            " |-- oldpeak: double (nullable = true)\n",
            " |-- slope: string (nullable = true)\n",
            " |-- ca: integer (nullable = true)\n",
            " |-- thal: string (nullable = true)\n",
            " |-- num: integer (nullable = true)\n",
            "\n",
            "\n",
            "Calculated weights for each class (to deal with imbalance)): {0: 0.44768856447688565, 1: 0.6943396226415094, 2: 1.688073394495413, 3: 1.719626168224299, 4: 6.571428571428571}\n"
          ]
        },
        {
          "output_type": "stream",
          "name": "stderr",
          "text": [
            "/usr/local/lib/python3.11/dist-packages/pyspark/sql/column.py:460: FutureWarning: A column as 'key' in getItem is deprecated as of Spark 3.0, and will not be supported in the future release. Use `column[key]` or `column.key` syntax instead.\n",
            "  warnings.warn(\n"
          ]
        }
      ],
      "source": [
        "# Removing unnecessary columns that are not used in modeling\n",
        "data = data.drop(\"id\", \"dataset\")\n",
        "\n",
        "# Fix data type error: Convert Boolean columns to Integer so they can be used in Imputer\n",
        "data = data.withColumn(\"fbs\", col(\"fbs\").cast(\"integer\"))\n",
        "data = data.withColumn(\"exang\", col(\"exang\").cast(\"integer\"))\n",
        "print(\"\\nSchema after converting Boolean columns (fbs, exang):\")\n",
        "data.printSchema()\n",
        "\n",
        "# Dealing with data imbalance: calculating and adding a weight column for each class\n",
        "# This helps the model give more importance to classes with fewer examples.\n",
        "class_counts = data.groupBy(\"num\").count().orderBy(\"num\").collect()\n",
        "total_samples = data.count()\n",
        "num_classes = len(class_counts)\n",
        "weights = {row['num']: total_samples / (num_classes * row['count']) for row in class_counts}\n",
        "print(f\"\\nCalculated weights for each class (to deal with imbalance)): {weights}\")\n",
        "\n",
        "# Adding a weight column to a dataframe\n",
        "mapping_expr = create_map([lit(x) for x in chain(*weights.items())])\n",
        "data = data.withColumn(\"classWeight\", mapping_expr.getItem(col(\"num\")))"
      ]
    },
    {
      "cell_type": "markdown",
      "metadata": {
        "id": "2rrOqyuzT5Yr"
      },
      "source": [
        "## **Pipeline Construction and Model Definition**"
      ]
    },
    {
      "cell_type": "code",
      "execution_count": 6,
      "metadata": {
        "id": "tmPyR9orT5Ys"
      },
      "outputs": [],
      "source": [
        "# Defining numeric and categorical columns\n",
        "categorical_cols = ['sex', 'cp', 'restecg', 'slope', 'thal']\n",
        "numerical_cols = ['age', 'trestbps', 'chol', 'fbs', 'thalch', 'exang', 'oldpeak', 'ca']\n",
        "\n",
        "# Step 1: Imputer to fill in missing numeric values with the mean (instead of deleting rows)\n",
        "imputer = Imputer(inputCols=numerical_cols, outputCols=[c + \"_imputed\" for c in numerical_cols], strategy=\"mean\")\n",
        "\n",
        "# Step 2: StringIndexer to convert text columns to numeric\n",
        "indexers = [StringIndexer(inputCol=c, outputCol=c + \"_indexed\", handleInvalid=\"keep\") for c in categorical_cols]\n",
        "\n",
        "# Step 3: StringIndexer for target column (convert 'num' to 'label')\n",
        "label_indexer = StringIndexer(inputCol=\"num\", outputCol=\"label\")\n",
        "\n",
        "# Step 4: VectorAssembler to assemble all features into a single vector\n",
        "assembler_inputs = [c + \"_imputed\" for c in numerical_cols] + [c + \"_indexed\" for c in categorical_cols]\n",
        "assembler = VectorAssembler(inputCols=assembler_inputs, outputCol=\"features\")\n",
        "\n",
        "# step 5: StandardScaler for feature scaling (improve model performance)\n",
        "scaler = StandardScaler(inputCol=\"features\", outputCol=\"scaledFeatures\")\n",
        "\n",
        "# Step 6: Define the RandomForest classification model\n",
        "rf = RandomForestClassifier(\n",
        "    labelCol=\"label\",\n",
        "    featuresCol=\"scaledFeatures\",\n",
        "    weightCol=\"classWeight\",  # Using a weight column for training\n",
        "    numTrees=100,\n",
        "    maxDepth=10,\n",
        "    seed=42\n",
        ")\n",
        "\n",
        "# Connecting all stages together in a single pipeline\n",
        "pipeline = Pipeline(stages=[imputer] + indexers + [label_indexer, assembler, scaler, rf])"
      ]
    },
    {
      "cell_type": "markdown",
      "metadata": {
        "id": "e0-qZ35gT5Ys"
      },
      "source": [
        "## **Train / Test Split and Fit**"
      ]
    },
    {
      "cell_type": "code",
      "execution_count": 7,
      "metadata": {
        "colab": {
          "base_uri": "https://localhost:8080/"
        },
        "id": "fVth_6CnT5Yt",
        "outputId": "8b3e6b3e-73ee-4189-a80c-cd184978e21c"
      },
      "outputs": [
        {
          "output_type": "stream",
          "name": "stdout",
          "text": [
            "\n",
            "Number of rows in the training data: 771\n",
            "Number of rows in test data: 149\n",
            "\n",
            "Starting to train the model... (This step may take some time.))\n",
            "Model training is complete.\n"
          ]
        }
      ],
      "source": [
        "# 7. Split the data into training and testing sets and then train the model\n",
        "train_data, test_data = data.randomSplit([0.8, 0.2], seed=42)\n",
        "\n",
        "# Check the number of data in each set to ensure there are no problems.\n",
        "print(f\"\\nNumber of rows in the training data: {train_data.count()}\")\n",
        "print(f\"Number of rows in test data: {test_data.count()}\")\n",
        "\n",
        "print(\"\\nStarting to train the model... (This step may take some time.))\")\n",
        "pipeline_model = pipeline.fit(train_data)\n",
        "print(\"Model training is complete.\")"
      ]
    },
    {
      "cell_type": "markdown",
      "metadata": {
        "id": "ntkVv1FyT5Yt"
      },
      "source": [
        "## **Model Evaluation and Confusion Matrix Plotting**"
      ]
    },
    {
      "cell_type": "code",
      "execution_count": 8,
      "metadata": {
        "colab": {
          "base_uri": "https://localhost:8080/",
          "height": 905
        },
        "id": "Zmr69aRNT5Yt",
        "outputId": "045b39fa-7167-4df5-acc7-fcffaa8627f4"
      },
      "outputs": [
        {
          "output_type": "stream",
          "name": "stdout",
          "text": [
            "\n",
            "--- Model evaluation results ---\n",
            "F1 Score (The main criterion for unbalanced data): 0.5140\n",
            "Accuracy: 0.5503\n",
            "\n",
            "Constructing a clutter matrix...\n"
          ]
        },
        {
          "output_type": "display_data",
          "data": {
            "text/plain": [
              "<Figure size 1200x900 with 2 Axes>"
            ],
            "image/png": "[encoded data removed]"
          },
          "metadata": {}
        }
      ],
      "source": [
        "# 8. Evaluate the model and plot the confusion matrix\n",
        "# Make predictions on test data\n",
        "# Make predictions on test data\n",
        "predictions = pipeline_model.transform(test_data)\n",
        "\n",
        "# Calculating evaluation criteria\n",
        "print(\"\\n--- Model evaluation results ---\")\n",
        "f1 = MulticlassClassificationEvaluator(labelCol=\"label\", predictionCol=\"prediction\", metricName=\"f1\").evaluate(predictions)\n",
        "accuracy = MulticlassClassificationEvaluator(labelCol=\"label\", predictionCol=\"prediction\", metricName=\"accuracy\").evaluate(predictions)\n",
        "print(f\"F1 Score (The main criterion for unbalanced data): {f1:.4f}\")\n",
        "print(f\"Accuracy: {accuracy:.4f}\")\n",
        "\n",
        "# Preparing to draw the clutter matrix\n",
        "print(\"\\nConstructing a clutter matrix...\")\n",
        "preds_and_labels = predictions.select(\"prediction\", \"label\").toPandas()\n",
        "\n",
        "if preds_and_labels.empty:\n",
        "    print(\"Error: No data to evaluate! The problem is in the previous steps.\")\n",
        "else:\n",
        "    # ★★★ Key fix here ★★★\n",
        "    # Accessing the correct stage in the Pipeline:\n",
        "    # Order of final stages: [... -> label_indexer -> assembler -> scaler -> model]\n",
        "    # So label_indexer is the fourth stage from the end (index -4)\n",
        "    label_converter = pipeline_model.stages[-4]\n",
        "    original_labels = label_converter.labels\n",
        "\n",
        "    # Creating matrices with Pandas\n",
        "    confusion_matrix_df = pd.crosstab(preds_and_labels['label'], preds_and_labels['prediction'])\n",
        "\n",
        "    # Make sure all classes are in the matrix and sort them\n",
        "    # This will prevent the graph from collapsing if a class is missing from the test data\n",
        "    all_indices = list(range(len(original_labels)))\n",
        "    confusion_matrix_df = confusion_matrix_df.reindex(index=all_indices, columns=all_indices, fill_value=0)\n",
        "\n",
        "    # Rename rows and columns to original labels for better readability\n",
        "    tick_labels = [original_labels[i] for i in confusion_matrix_df.index]\n",
        "    confusion_matrix_df.index = [f\"Real: {l}\" for l in tick_labels]\n",
        "    confusion_matrix_df.columns = [f\"Prediction: {l}\" for l in tick_labels]\n",
        "\n",
        "    # Matrix drawing\n",
        "    plt.figure(figsize=(12, 9))\n",
        "    sns.heatmap(confusion_matrix_df, annot=True, fmt='d', cmap='Blues')\n",
        "    plt.title('Confusion matrix for severity of heart disease', fontsize=16)\n",
        "    plt.ylabel('Real class', fontsize=12)\n",
        "    plt.xlabel('Predicted class', fontsize=12)\n",
        "    plt.show()"
      ]
    },
    {
      "cell_type": "markdown",
      "metadata": {
        "id": "3JrvEnyeT5Yu"
      },
      "source": [
        "## **Spark Session Stop**"
      ]
    },
    {
      "cell_type": "code",
      "execution_count": 9,
      "metadata": {
        "colab": {
          "base_uri": "https://localhost:8080/"
        },
        "id": "lgzdbCYrT5Yu",
        "outputId": "e3f18bb0-8d60-4294-bdc2-cfff9f1b3cdd"
      },
      "outputs": [
        {
          "output_type": "stream",
          "name": "stdout",
          "text": [
            "\n",
            "Spark Session It stopped.\n"
          ]
        }
      ],
      "source": [
        "# 9. Stopping a Spark Session to Free Resources\n",
        "spark.stop()\n",
        "print(\"\\nSpark Session It stopped.\")"
      ]
    },
    {
      "cell_type": "markdown",
      "metadata": {
        "id": "vzxEcbrOT5Yu"
      },
      "source": [
        "## **THE END**"
      ]
    }
  ],
  "metadata": {
    "language_info": {
      "name": "python"
    },
    "colab": {
      "provenance": [],
      "gpuType": "T4"
    },
    "accelerator": "GPU",
    "kernelspec": {
      "name": "python3",
      "display_name": "Python 3"
    }
  },
  "nbformat": 4,
  "nbformat_minor": 0
}