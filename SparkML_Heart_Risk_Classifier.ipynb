{
  "nbformat": 4,
  "nbformat_minor": 0,
  "metadata": {
    "colab": {
      "provenance": [],
      "gpuType": "T4",
      "authorship_tag": "ABX9TyOVMN6LgHlimiEb09DX+eq4",
      "include_colab_link": true
    },
    "kernelspec": {
      "name": "python3",
      "display_name": "Python 3"
    },
    "language_info": {
      "name": "python"
    },
    "accelerator": "GPU"
  },
  "cells": [
    {
      "cell_type": "markdown",
      "metadata": {
        "id": "view-in-github",
        "colab_type": "text"
      },
      "source": [
        "<a href=\"https://colab.research.google.com/github/Sayed-Hossein-Hosseini/SparkML_Heart_Risk_Classifier/blob/master/SparkML_Heart_Risk_Classifier.ipynb\" target=\"_parent\"><img src=\"https://colab.research.google.com/assets/colab-badge.svg\" alt=\"Open In Colab\"/></a>"
      ]
    },
    {
      "cell_type": "markdown",
      "source": [
        "# **SparkML Heart Risk Classifier**"
      ],
      "metadata": {
        "id": "VgxGftLU9HOz"
      }
    },
    {
      "cell_type": "markdown",
      "source": [
        "## **Libraries**"
      ],
      "metadata": {
        "id": "4Nm18lRB9NUD"
      }
    },
    {
      "cell_type": "code",
      "source": [
        "pip install pyspark"
      ],
      "metadata": {
        "colab": {
          "base_uri": "https://localhost:8080/"
        },
        "id": "eKhBNPmF9Tdr",
        "outputId": "c4ff91a6-7e8e-4119-b950-0c503ecc0036"
      },
      "execution_count": 21,
      "outputs": [
        {
          "output_type": "stream",
          "name": "stdout",
          "text": [
            "Requirement already satisfied: pyspark in /usr/local/lib/python3.11/dist-packages (3.5.1)\n",
            "Requirement already satisfied: py4j==0.10.9.7 in /usr/local/lib/python3.11/dist-packages (from pyspark) (0.10.9.7)\n"
          ]
        }
      ]
    },
    {
      "cell_type": "code",
      "source": [
        "from pyspark.sql import SparkSession\n",
        "from pyspark.ml.feature import StringIndexer, VectorAssembler\n",
        "from pyspark.ml import Pipeline\n",
        "from pyspark.ml.classification import RandomForestClassifier\n",
        "from pyspark.ml.evaluation import MulticlassClassificationEvaluator, BinaryClassificationEvaluator\n",
        "from pyspark.sql.functions import col"
      ],
      "metadata": {
        "id": "5Hh-OqTh9bRz"
      },
      "execution_count": 22,
      "outputs": []
    },
    {
      "cell_type": "markdown",
      "source": [
        "## **Loading Dataset**"
      ],
      "metadata": {
        "id": "vIIT0yOw9rHD"
      }
    },
    {
      "cell_type": "code",
      "source": [
        "# Create a local Spark session\n",
        "spark = SparkSession.builder.appName(\"HeartDiseaseClassification\").getOrCreate()\n",
        "\n",
        "# Upload CSV file\n",
        "data = spark.read.csv(\"heart_disease_uci.csv\", header=True, inferSchema=True)\n",
        "\n",
        "# Display data\n",
        "data.printSchema()\n",
        "data.show(5)"
      ],
      "metadata": {
        "colab": {
          "base_uri": "https://localhost:8080/"
        },
        "id": "Plr-7rT-9rPb",
        "outputId": "dcc17c3d-2497-4384-c013-5af4030f5282"
      },
      "execution_count": 23,
      "outputs": [
        {
          "output_type": "stream",
          "name": "stdout",
          "text": [
            "root\n",
            " |-- id: integer (nullable = true)\n",
            " |-- age: integer (nullable = true)\n",
            " |-- sex: string (nullable = true)\n",
            " |-- dataset: string (nullable = true)\n",
            " |-- cp: string (nullable = true)\n",
            " |-- trestbps: integer (nullable = true)\n",
            " |-- chol: integer (nullable = true)\n",
            " |-- fbs: boolean (nullable = true)\n",
            " |-- restecg: string (nullable = true)\n",
            " |-- thalch: integer (nullable = true)\n",
            " |-- exang: boolean (nullable = true)\n",
            " |-- oldpeak: double (nullable = true)\n",
            " |-- slope: string (nullable = true)\n",
            " |-- ca: integer (nullable = true)\n",
            " |-- thal: string (nullable = true)\n",
            " |-- num: integer (nullable = true)\n",
            "\n",
            "+---+---+------+---------+---------------+--------+----+-----+--------------+------+-----+-------+-----------+---+-----------------+---+\n",
            "| id|age|   sex|  dataset|             cp|trestbps|chol|  fbs|       restecg|thalch|exang|oldpeak|      slope| ca|             thal|num|\n",
            "+---+---+------+---------+---------------+--------+----+-----+--------------+------+-----+-------+-----------+---+-----------------+---+\n",
            "|  1| 63|  Male|Cleveland| typical angina|     145| 233| true|lv hypertrophy|   150|false|    2.3|downsloping|  0|     fixed defect|  0|\n",
            "|  2| 67|  Male|Cleveland|   asymptomatic|     160| 286|false|lv hypertrophy|   108| true|    1.5|       flat|  3|           normal|  2|\n",
            "|  3| 67|  Male|Cleveland|   asymptomatic|     120| 229|false|lv hypertrophy|   129| true|    2.6|       flat|  2|reversable defect|  1|\n",
            "|  4| 37|  Male|Cleveland|    non-anginal|     130| 250|false|        normal|   187|false|    3.5|downsloping|  0|           normal|  0|\n",
            "|  5| 41|Female|Cleveland|atypical angina|     130| 204|false|lv hypertrophy|   172|false|    1.4|  upsloping|  0|           normal|  0|\n",
            "+---+---+------+---------+---------------+--------+----+-----+--------------+------+-----+-------+-----------+---+-----------------+---+\n",
            "only showing top 5 rows\n",
            "\n"
          ]
        }
      ]
    },
    {
      "cell_type": "markdown",
      "source": [
        "## **Data Preprocessing**"
      ],
      "metadata": {
        "id": "EvGida3NKPus"
      }
    },
    {
      "cell_type": "code",
      "source": [
        "# Step 1: Categorical columns to be indexed\n",
        "categorical_cols = ['sex', 'dataset', 'cp', 'restecg', 'slope', 'thal']\n",
        "indexers = [StringIndexer(inputCol=c, outputCol=c + \"_indexed\", handleInvalid=\"keep\") for c in categorical_cols]\n",
        "\n",
        "# Step 2: Define final feature columns after indexing\n",
        "numerical_cols = ['age', 'trestbps', 'chol', 'fbs', 'thalch', 'exang', 'oldpeak', 'ca']\n",
        "final_feature_cols = numerical_cols + [c + \"_indexed\" for c in categorical_cols]\n",
        "\n",
        "# Step 3: VectorAssembler\n",
        "assembler = VectorAssembler(inputCols=final_feature_cols, outputCol=\"features\", handleInvalid=\"keep\")\n",
        "\n",
        "# Step 4: Label indexer\n",
        "label_indexer = StringIndexer(inputCol=\"num\", outputCol=\"label\")  # or \"target\" if your dataset uses that\n",
        "\n",
        "# step 5: Train / Test Split\n",
        "data = data.dropna()\n",
        "train_data, test_data = data.randomSplit([0.8, 0.2], seed=42)"
      ],
      "metadata": {
        "id": "ZBUN43oXKV2c"
      },
      "execution_count": 31,
      "outputs": []
    },
    {
      "cell_type": "markdown",
      "source": [
        "## **Building a Classification Model**"
      ],
      "metadata": {
        "id": "8ix7Ly9VL_b8"
      }
    },
    {
      "cell_type": "code",
      "source": [
        "rf = RandomForestClassifier(labelCol=\"label\", featuresCol=\"features\", numTrees=100)\n",
        "\n",
        "# Build Pipeline\n",
        "pipeline = Pipeline(stages=indexers + [assembler, label_indexer, rf])\n",
        "\n",
        "# Training Model\n",
        "model = pipeline.fit(train_data)"
      ],
      "metadata": {
        "id": "5qtq-CniMBAL"
      },
      "execution_count": 32,
      "outputs": []
    },
    {
      "cell_type": "markdown",
      "source": [
        "## **Model Evaluation**"
      ],
      "metadata": {
        "id": "ZYswLYoxN_KN"
      }
    },
    {
      "cell_type": "code",
      "source": [
        "# Prediction on test data\n",
        "predictions = model.transform(test_data)\n",
        "predictions.select(\"prediction\", \"label\", \"probability\").show(5)\n",
        "\n",
        "# Evaluation criteria\n",
        "evaluator = MulticlassClassificationEvaluator(labelCol=\"label\", predictionCol=\"prediction\", metricName=\"accuracy\")\n",
        "accuracy = evaluator.evaluate(predictions)\n",
        "\n",
        "precision = MulticlassClassificationEvaluator(labelCol=\"label\", predictionCol=\"prediction\", metricName=\"weightedPrecision\").evaluate(predictions)\n",
        "recall = MulticlassClassificationEvaluator(labelCol=\"label\", predictionCol=\"prediction\", metricName=\"weightedRecall\").evaluate(predictions)\n",
        "f1 = MulticlassClassificationEvaluator(labelCol=\"label\", predictionCol=\"prediction\", metricName=\"f1\").evaluate(predictions)\n",
        "\n",
        "# roc_auc = BinaryClassificationEvaluator(labelCol=\"label\", rawPredictionCol=\"probability\", metricName=\"areaUnderROC\").evaluate(predictions)\n",
        "\n",
        "print(\"Accuracy:\", accuracy)\n",
        "print(\"Precision:\", precision)\n",
        "print(\"Recall:\", recall)\n",
        "print(\"F1 Score:\", f1)\n",
        "# print(\"ROC-AUC:\", roc_auc)\n"
      ],
      "metadata": {
        "colab": {
          "base_uri": "https://localhost:8080/"
        },
        "id": "nuz9Jjn4N_Q7",
        "outputId": "72b58f16-0151-47a1-eb7b-41b9eca0f4fe"
      },
      "execution_count": 35,
      "outputs": [
        {
          "output_type": "stream",
          "name": "stdout",
          "text": [
            "+----------+-----+--------------------+\n",
            "|prediction|label|         probability|\n",
            "+----------+-----+--------------------+\n",
            "|       3.0|  1.0|[0.07863744951865...|\n",
            "|       1.0|  3.0|[0.26943736597709...|\n",
            "|       2.0|  2.0|[0.18585347032870...|\n",
            "|       0.0|  0.0|[0.68050937397274...|\n",
            "|       0.0|  0.0|[0.92264573164801...|\n",
            "+----------+-----+--------------------+\n",
            "only showing top 5 rows\n",
            "\n",
            "Accuracy: 0.5106382978723404\n",
            "Precision: 0.39620060790273554\n",
            "Recall: 0.5106382978723404\n",
            "F1 Score: 0.4311381290104694\n"
          ]
        }
      ]
    }
  ]
}